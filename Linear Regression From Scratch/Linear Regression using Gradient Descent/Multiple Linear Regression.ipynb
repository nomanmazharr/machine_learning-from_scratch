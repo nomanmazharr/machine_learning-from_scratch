{
 "cells": [
  {
   "cell_type": "code",
   "execution_count": 158,
   "id": "2276201c",
   "metadata": {},
   "outputs": [],
   "source": [
    "from sklearn.datasets import load_diabetes"
   ]
  },
  {
   "cell_type": "code",
   "execution_count": 180,
   "id": "98a15409",
   "metadata": {},
   "outputs": [
    {
     "data": {
      "text/plain": [
       "array([[ 0.03807591,  0.05068012,  0.06169621, ..., -0.00259226,\n",
       "         0.01990749, -0.01764613],\n",
       "       [-0.00188202, -0.04464164, -0.05147406, ..., -0.03949338,\n",
       "        -0.06833155, -0.09220405],\n",
       "       [ 0.08529891,  0.05068012,  0.04445121, ..., -0.00259226,\n",
       "         0.00286131, -0.02593034],\n",
       "       ...,\n",
       "       [ 0.04170844,  0.05068012, -0.01590626, ..., -0.01107952,\n",
       "        -0.04688253,  0.01549073],\n",
       "       [-0.04547248, -0.04464164,  0.03906215, ...,  0.02655962,\n",
       "         0.04452873, -0.02593034],\n",
       "       [-0.04547248, -0.04464164, -0.0730303 , ..., -0.03949338,\n",
       "        -0.00422151,  0.00306441]])"
      ]
     },
     "execution_count": 180,
     "metadata": {},
     "output_type": "execute_result"
    }
   ],
   "source": [
    "x,y = load_diabetes(return_X_y=True)\n",
    "x"
   ]
  },
  {
   "cell_type": "code",
   "execution_count": 181,
   "id": "4cec2cb5",
   "metadata": {},
   "outputs": [
    {
     "data": {
      "text/plain": [
       "array([151.,  75., 141., 206., 135.,  97., 138.,  63., 110., 310., 101.,\n",
       "        69., 179., 185., 118., 171., 166., 144.,  97., 168.,  68.,  49.,\n",
       "        68., 245., 184., 202., 137.,  85., 131., 283., 129.,  59., 341.,\n",
       "        87.,  65., 102., 265., 276., 252.,  90., 100.,  55.,  61.,  92.,\n",
       "       259.,  53., 190., 142.,  75., 142., 155., 225.,  59., 104., 182.,\n",
       "       128.,  52.,  37., 170., 170.,  61., 144.,  52., 128.,  71., 163.,\n",
       "       150.,  97., 160., 178.,  48., 270., 202., 111.,  85.,  42., 170.,\n",
       "       200., 252., 113., 143.,  51.,  52., 210.,  65., 141.,  55., 134.,\n",
       "        42., 111.,  98., 164.,  48.,  96.,  90., 162., 150., 279.,  92.,\n",
       "        83., 128., 102., 302., 198.,  95.,  53., 134., 144., 232.,  81.,\n",
       "       104.,  59., 246., 297., 258., 229., 275., 281., 179., 200., 200.,\n",
       "       173., 180.,  84., 121., 161.,  99., 109., 115., 268., 274., 158.,\n",
       "       107.,  83., 103., 272.,  85., 280., 336., 281., 118., 317., 235.,\n",
       "        60., 174., 259., 178., 128.,  96., 126., 288.,  88., 292.,  71.,\n",
       "       197., 186.,  25.,  84.,  96., 195.,  53., 217., 172., 131., 214.,\n",
       "        59.,  70., 220., 268., 152.,  47.,  74., 295., 101., 151., 127.,\n",
       "       237., 225.,  81., 151., 107.,  64., 138., 185., 265., 101., 137.,\n",
       "       143., 141.,  79., 292., 178.,  91., 116.,  86., 122.,  72., 129.,\n",
       "       142.,  90., 158.,  39., 196., 222., 277.,  99., 196., 202., 155.,\n",
       "        77., 191.,  70.,  73.,  49.,  65., 263., 248., 296., 214., 185.,\n",
       "        78.,  93., 252., 150.,  77., 208.,  77., 108., 160.,  53., 220.,\n",
       "       154., 259.,  90., 246., 124.,  67.,  72., 257., 262., 275., 177.,\n",
       "        71.,  47., 187., 125.,  78.,  51., 258., 215., 303., 243.,  91.,\n",
       "       150., 310., 153., 346.,  63.,  89.,  50.,  39., 103., 308., 116.,\n",
       "       145.,  74.,  45., 115., 264.,  87., 202., 127., 182., 241.,  66.,\n",
       "        94., 283.,  64., 102., 200., 265.,  94., 230., 181., 156., 233.,\n",
       "        60., 219.,  80.,  68., 332., 248.,  84., 200.,  55.,  85.,  89.,\n",
       "        31., 129.,  83., 275.,  65., 198., 236., 253., 124.,  44., 172.,\n",
       "       114., 142., 109., 180., 144., 163., 147.,  97., 220., 190., 109.,\n",
       "       191., 122., 230., 242., 248., 249., 192., 131., 237.,  78., 135.,\n",
       "       244., 199., 270., 164.,  72.,  96., 306.,  91., 214.,  95., 216.,\n",
       "       263., 178., 113., 200., 139., 139.,  88., 148.,  88., 243.,  71.,\n",
       "        77., 109., 272.,  60.,  54., 221.,  90., 311., 281., 182., 321.,\n",
       "        58., 262., 206., 233., 242., 123., 167.,  63., 197.,  71., 168.,\n",
       "       140., 217., 121., 235., 245.,  40.,  52., 104., 132.,  88.,  69.,\n",
       "       219.,  72., 201., 110.,  51., 277.,  63., 118.,  69., 273., 258.,\n",
       "        43., 198., 242., 232., 175.,  93., 168., 275., 293., 281.,  72.,\n",
       "       140., 189., 181., 209., 136., 261., 113., 131., 174., 257.,  55.,\n",
       "        84.,  42., 146., 212., 233.,  91., 111., 152., 120.,  67., 310.,\n",
       "        94., 183.,  66., 173.,  72.,  49.,  64.,  48., 178., 104., 132.,\n",
       "       220.,  57.])"
      ]
     },
     "execution_count": 181,
     "metadata": {},
     "output_type": "execute_result"
    }
   ],
   "source": [
    "y"
   ]
  },
  {
   "cell_type": "code",
   "execution_count": 182,
   "id": "cc097d5e",
   "metadata": {},
   "outputs": [
    {
     "data": {
      "text/plain": [
       "442"
      ]
     },
     "execution_count": 182,
     "metadata": {},
     "output_type": "execute_result"
    }
   ],
   "source": [
    "len(y)"
   ]
  },
  {
   "cell_type": "code",
   "execution_count": 183,
   "id": "56caa8e6",
   "metadata": {},
   "outputs": [],
   "source": [
    "from sklearn.linear_model import LinearRegression"
   ]
  },
  {
   "cell_type": "code",
   "execution_count": 184,
   "id": "eeb933ff",
   "metadata": {},
   "outputs": [],
   "source": [
    "from sklearn.model_selection import train_test_split\n",
    "x_train,x_test,y_train,y_test = train_test_split(x,y,test_size=0.2,random_state=3)"
   ]
  },
  {
   "cell_type": "code",
   "execution_count": 185,
   "id": "84515323",
   "metadata": {},
   "outputs": [
    {
     "data": {
      "text/html": [
       "<style>#sk-container-id-5 {color: black;background-color: white;}#sk-container-id-5 pre{padding: 0;}#sk-container-id-5 div.sk-toggleable {background-color: white;}#sk-container-id-5 label.sk-toggleable__label {cursor: pointer;display: block;width: 100%;margin-bottom: 0;padding: 0.3em;box-sizing: border-box;text-align: center;}#sk-container-id-5 label.sk-toggleable__label-arrow:before {content: \"▸\";float: left;margin-right: 0.25em;color: #696969;}#sk-container-id-5 label.sk-toggleable__label-arrow:hover:before {color: black;}#sk-container-id-5 div.sk-estimator:hover label.sk-toggleable__label-arrow:before {color: black;}#sk-container-id-5 div.sk-toggleable__content {max-height: 0;max-width: 0;overflow: hidden;text-align: left;background-color: #f0f8ff;}#sk-container-id-5 div.sk-toggleable__content pre {margin: 0.2em;color: black;border-radius: 0.25em;background-color: #f0f8ff;}#sk-container-id-5 input.sk-toggleable__control:checked~div.sk-toggleable__content {max-height: 200px;max-width: 100%;overflow: auto;}#sk-container-id-5 input.sk-toggleable__control:checked~label.sk-toggleable__label-arrow:before {content: \"▾\";}#sk-container-id-5 div.sk-estimator input.sk-toggleable__control:checked~label.sk-toggleable__label {background-color: #d4ebff;}#sk-container-id-5 div.sk-label input.sk-toggleable__control:checked~label.sk-toggleable__label {background-color: #d4ebff;}#sk-container-id-5 input.sk-hidden--visually {border: 0;clip: rect(1px 1px 1px 1px);clip: rect(1px, 1px, 1px, 1px);height: 1px;margin: -1px;overflow: hidden;padding: 0;position: absolute;width: 1px;}#sk-container-id-5 div.sk-estimator {font-family: monospace;background-color: #f0f8ff;border: 1px dotted black;border-radius: 0.25em;box-sizing: border-box;margin-bottom: 0.5em;}#sk-container-id-5 div.sk-estimator:hover {background-color: #d4ebff;}#sk-container-id-5 div.sk-parallel-item::after {content: \"\";width: 100%;border-bottom: 1px solid gray;flex-grow: 1;}#sk-container-id-5 div.sk-label:hover label.sk-toggleable__label {background-color: #d4ebff;}#sk-container-id-5 div.sk-serial::before {content: \"\";position: absolute;border-left: 1px solid gray;box-sizing: border-box;top: 0;bottom: 0;left: 50%;z-index: 0;}#sk-container-id-5 div.sk-serial {display: flex;flex-direction: column;align-items: center;background-color: white;padding-right: 0.2em;padding-left: 0.2em;position: relative;}#sk-container-id-5 div.sk-item {position: relative;z-index: 1;}#sk-container-id-5 div.sk-parallel {display: flex;align-items: stretch;justify-content: center;background-color: white;position: relative;}#sk-container-id-5 div.sk-item::before, #sk-container-id-5 div.sk-parallel-item::before {content: \"\";position: absolute;border-left: 1px solid gray;box-sizing: border-box;top: 0;bottom: 0;left: 50%;z-index: -1;}#sk-container-id-5 div.sk-parallel-item {display: flex;flex-direction: column;z-index: 1;position: relative;background-color: white;}#sk-container-id-5 div.sk-parallel-item:first-child::after {align-self: flex-end;width: 50%;}#sk-container-id-5 div.sk-parallel-item:last-child::after {align-self: flex-start;width: 50%;}#sk-container-id-5 div.sk-parallel-item:only-child::after {width: 0;}#sk-container-id-5 div.sk-dashed-wrapped {border: 1px dashed gray;margin: 0 0.4em 0.5em 0.4em;box-sizing: border-box;padding-bottom: 0.4em;background-color: white;}#sk-container-id-5 div.sk-label label {font-family: monospace;font-weight: bold;display: inline-block;line-height: 1.2em;}#sk-container-id-5 div.sk-label-container {text-align: center;}#sk-container-id-5 div.sk-container {/* jupyter's `normalize.less` sets `[hidden] { display: none; }` but bootstrap.min.css set `[hidden] { display: none !important; }` so we also need the `!important` here to be able to override the default hidden behavior on the sphinx rendered scikit-learn.org. See: https://github.com/scikit-learn/scikit-learn/issues/21755 */display: inline-block !important;position: relative;}#sk-container-id-5 div.sk-text-repr-fallback {display: none;}</style><div id=\"sk-container-id-5\" class=\"sk-top-container\"><div class=\"sk-text-repr-fallback\"><pre>LinearRegression()</pre><b>In a Jupyter environment, please rerun this cell to show the HTML representation or trust the notebook. <br />On GitHub, the HTML representation is unable to render, please try loading this page with nbviewer.org.</b></div><div class=\"sk-container\" hidden><div class=\"sk-item\"><div class=\"sk-estimator sk-toggleable\"><input class=\"sk-toggleable__control sk-hidden--visually\" id=\"sk-estimator-id-5\" type=\"checkbox\" checked><label for=\"sk-estimator-id-5\" class=\"sk-toggleable__label sk-toggleable__label-arrow\">LinearRegression</label><div class=\"sk-toggleable__content\"><pre>LinearRegression()</pre></div></div></div></div></div>"
      ],
      "text/plain": [
       "LinearRegression()"
      ]
     },
     "execution_count": 185,
     "metadata": {},
     "output_type": "execute_result"
    }
   ],
   "source": [
    "model = LinearRegression()\n",
    "model.fit(x_train,y_train)"
   ]
  },
  {
   "cell_type": "code",
   "execution_count": 186,
   "id": "114ae74e",
   "metadata": {},
   "outputs": [
    {
     "data": {
      "text/plain": [
       "array([ 99.48235947, 181.25429903, 106.61572846, 123.10541923,\n",
       "       183.04909567,  83.29913847, 130.54854188, 233.85654301,\n",
       "       155.00942627, 171.46626454, 171.06003791, 192.94190885,\n",
       "       147.25129841, 214.5307459 ,  47.50252863, 142.43786422,\n",
       "       119.95723033, 209.7179434 , 185.71531692, 147.23625586,\n",
       "       150.40785093, 102.60018559, 170.78899034, 177.8219416 ,\n",
       "       152.40388316, 187.08466299, 197.72314739, 204.83066546,\n",
       "       132.09655487, 158.42112429, 260.54948673, 125.48180691,\n",
       "       195.29165994, 125.76882485, 163.21646899,  58.37895843,\n",
       "       158.14323269, 103.4034084 , 128.04980829, 161.3128156 ,\n",
       "       146.00080757, 219.57659671, 126.64096152, 131.12134464,\n",
       "       150.1627216 ,  92.3404223 , 120.10323463, 261.33608538,\n",
       "       150.22171365, 197.82772808, 145.97361477, 104.56119742,\n",
       "       139.47230609, 192.90101701, 159.2347891 , 135.21956019,\n",
       "       120.30423162, 262.94731714, 255.46123067, 151.24338655,\n",
       "       153.11282489, 128.59191597,  69.02540213, 136.99438441,\n",
       "       131.00427593,  98.58510398,  58.22794932,  89.79938641,\n",
       "        87.14491288, 121.17105767, 208.00095182, 113.19087361,\n",
       "       165.82210204, 168.32262116, 228.52045228,  67.47385285,\n",
       "       227.57247987,  75.82249398, 109.85886959, 140.6213048 ,\n",
       "       241.39840317, 156.81479998, 171.45678365, 255.38229204,\n",
       "       127.00816631,  65.91507445, 125.20136252, 151.72719232,\n",
       "       181.1806054 ])"
      ]
     },
     "execution_count": 186,
     "metadata": {},
     "output_type": "execute_result"
    }
   ],
   "source": [
    "y_pred = model.predict(x_test)\n",
    "y_pred"
   ]
  },
  {
   "cell_type": "code",
   "execution_count": 187,
   "id": "0910a737",
   "metadata": {},
   "outputs": [],
   "source": [
    "from sklearn.metrics import r2_score"
   ]
  },
  {
   "cell_type": "code",
   "execution_count": 188,
   "id": "4693a6bc",
   "metadata": {},
   "outputs": [
    {
     "data": {
      "text/plain": [
       "0.4161792211496943"
      ]
     },
     "execution_count": 188,
     "metadata": {},
     "output_type": "execute_result"
    }
   ],
   "source": [
    "results = r2_score(y_test,y_pred)\n",
    "results"
   ]
  },
  {
   "cell_type": "code",
   "execution_count": 189,
   "id": "bdce1c5b",
   "metadata": {},
   "outputs": [],
   "source": [
    "import numpy as np"
   ]
  },
  {
   "cell_type": "code",
   "execution_count": 205,
   "id": "8c05f332",
   "metadata": {},
   "outputs": [],
   "source": [
    "class MyMGDRegressor:\n",
    "    def __init__(self,learning_rate=0.01,epochs=10):\n",
    "        self.coef = 0\n",
    "        self.b = 0\n",
    "        self.lr = learning_rate\n",
    "        self.epochs = epochs\n",
    "    def fit(self,x_train,y_train):\n",
    "        self.coef = np.ones(x_train.shape[1])\n",
    "        \n",
    "        \n",
    "        for i in range(self.epochs):\n",
    "            \n",
    "            y_hat = np.dot(x_train,self.coef) + self.b\n",
    "\n",
    "            slope_of_b = -2 * np.mean(y_train - y_hat)\n",
    "            \n",
    "            slope_of_coef = (-2 * np.dot((y_train - y_hat), x_train))/x_train.shape[0]\n",
    "            \n",
    "            \n",
    "            self.b = self.b - (self.lr*slope_of_b)\n",
    "            self.coef = self.coef - (self.lr*slope_of_coef)\n",
    "        print(self.coef)\n",
    "        print(self.b)\n",
    "            \n",
    "    def predict(self,x_test):\n",
    "        pred = np.dot(x_test,self.coef) + self.b\n",
    "        return pred"
   ]
  },
  {
   "cell_type": "code",
   "execution_count": 261,
   "id": "fdf3e2b2",
   "metadata": {},
   "outputs": [],
   "source": [
    "myclass = MyMGDRegressor(0.5,1000)"
   ]
  },
  {
   "cell_type": "code",
   "execution_count": 262,
   "id": "3427ba4d",
   "metadata": {},
   "outputs": [
    {
     "name": "stdout",
     "output_type": "stream",
     "text": [
      "[   8.46561346 -166.53547768  499.37280408  316.45100685  -79.9381579\n",
      " -122.92084916 -224.01836439  141.62406559  376.68892431  126.77297288]\n",
      "153.06039950024802\n"
     ]
    }
   ],
   "source": [
    "myclass.fit(x_train,y_train)"
   ]
  },
  {
   "cell_type": "code",
   "execution_count": 263,
   "id": "ed4ff7b6",
   "metadata": {},
   "outputs": [
    {
     "data": {
      "text/plain": [
       "array([104.48632658, 176.96702129, 110.00028862, 127.81319264,\n",
       "       181.58805449,  91.31203622, 135.99001677, 224.23702194,\n",
       "       154.18179466, 164.07410851, 165.14061045, 181.91541386,\n",
       "       145.40729095, 236.26561897,  42.0320625 , 146.50323429,\n",
       "       116.06452187, 199.14395633, 182.73171596, 138.47934174,\n",
       "       147.8886283 ,  97.16088687, 171.47008602, 172.63414686,\n",
       "       161.15451641, 180.74095732, 192.38329281, 199.41346301,\n",
       "       128.95845084, 168.09375069, 263.43437687, 126.97996648,\n",
       "       194.64360265, 127.53609113, 160.36594901,  64.48967247,\n",
       "       153.92543173,  94.64569125, 126.46697409, 165.84997807,\n",
       "       142.53265252, 214.24750518, 130.33874676, 130.01084253,\n",
       "       152.20108828,  96.84247659, 122.46167978, 254.27636161,\n",
       "       141.34710349, 191.35610557, 134.66466648, 110.26359815,\n",
       "       136.05951661, 190.69927848, 163.32727855, 139.43863444,\n",
       "       121.13337064, 258.38096352, 243.01521946, 152.81715666,\n",
       "       146.82749619, 132.60061272,  82.36372707, 139.44934429,\n",
       "       134.72268681, 104.20172351,  69.56673727,  88.69718434,\n",
       "        91.00352846, 130.72302508, 197.60863843, 114.05453747,\n",
       "       161.34093141, 159.72707684, 215.43941139,  67.95073519,\n",
       "       235.11292974,  80.07250874, 114.67824398, 134.08702417,\n",
       "       234.19790262, 148.45928404, 173.79283807, 269.10750959,\n",
       "       135.5225593 ,  73.12699348, 132.57525353, 150.718993  ,\n",
       "       178.95175352])"
      ]
     },
     "execution_count": 263,
     "metadata": {},
     "output_type": "execute_result"
    }
   ],
   "source": [
    "prediction = myclass.predict(x_test)\n",
    "prediction"
   ]
  },
  {
   "cell_type": "code",
   "execution_count": 264,
   "id": "0c35772f",
   "metadata": {},
   "outputs": [
    {
     "data": {
      "text/plain": [
       "0.41227009078761867"
      ]
     },
     "execution_count": 264,
     "metadata": {},
     "output_type": "execute_result"
    }
   ],
   "source": [
    "r2_score(y_test,prediction)"
   ]
  },
  {
   "cell_type": "code",
   "execution_count": 258,
   "id": "f6a485e2",
   "metadata": {},
   "outputs": [
    {
     "data": {
      "text/plain": [
       "153.03841232164402"
      ]
     },
     "execution_count": 258,
     "metadata": {},
     "output_type": "execute_result"
    }
   ],
   "source": [
    "myclass.b"
   ]
  },
  {
   "cell_type": "code",
   "execution_count": 259,
   "id": "753dca5b",
   "metadata": {},
   "outputs": [
    {
     "data": {
      "text/plain": [
       "array([  -1.13744712, -212.8867836 ,  540.45536994,  345.20621542,\n",
       "       -938.23814645,  516.62060367,  172.85885498,  267.87535242,\n",
       "        732.63230159,   70.07849485])"
      ]
     },
     "execution_count": 259,
     "metadata": {},
     "output_type": "execute_result"
    }
   ],
   "source": [
    "model.coef_"
   ]
  },
  {
   "cell_type": "code",
   "execution_count": 260,
   "id": "b954a191",
   "metadata": {},
   "outputs": [
    {
     "data": {
      "text/plain": [
       "153.13441535285003"
      ]
     },
     "execution_count": 260,
     "metadata": {},
     "output_type": "execute_result"
    }
   ],
   "source": [
    "model.intercept_"
   ]
  },
  {
   "cell_type": "code",
   "execution_count": 245,
   "id": "00b2d467",
   "metadata": {},
   "outputs": [
    {
     "data": {
      "text/plain": [
       "10"
      ]
     },
     "execution_count": 245,
     "metadata": {},
     "output_type": "execute_result"
    }
   ],
   "source": [
    "x_train.shape[1]"
   ]
  }
 ],
 "metadata": {
  "kernelspec": {
   "display_name": "Python 3 (ipykernel)",
   "language": "python",
   "name": "python3"
  },
  "language_info": {
   "codemirror_mode": {
    "name": "ipython",
    "version": 3
   },
   "file_extension": ".py",
   "mimetype": "text/x-python",
   "name": "python",
   "nbconvert_exporter": "python",
   "pygments_lexer": "ipython3",
   "version": "3.10.0"
  }
 },
 "nbformat": 4,
 "nbformat_minor": 5
}
