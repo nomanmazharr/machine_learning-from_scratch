{
 "cells": [
  {
   "cell_type": "code",
   "execution_count": 1,
   "id": "22e3828d",
   "metadata": {},
   "outputs": [],
   "source": [
    "import pandas as pd\n",
    "from sklearn.datasets import make_regression"
   ]
  },
  {
   "cell_type": "code",
   "execution_count": 83,
   "id": "28901886",
   "metadata": {},
   "outputs": [],
   "source": [
    "x,y = make_regression(n_samples=500, n_features=1, n_targets=1,noise=20,random_state=13)"
   ]
  },
  {
   "cell_type": "code",
   "execution_count": 84,
   "id": "0bdc0f5f",
   "metadata": {},
   "outputs": [],
   "source": [
    "from sklearn.model_selection import train_test_split\n",
    "x_train,x_test,y_train,y_test = train_test_split(x,y,test_size=0.2,random_state=2)"
   ]
  },
  {
   "cell_type": "code",
   "execution_count": 85,
   "id": "a3beeabb",
   "metadata": {},
   "outputs": [
    {
     "data": {
      "text/plain": [
       "(100,)"
      ]
     },
     "execution_count": 85,
     "metadata": {},
     "output_type": "execute_result"
    }
   ],
   "source": [
    "y_test.shape"
   ]
  },
  {
   "cell_type": "code",
   "execution_count": 86,
   "id": "bc510ab2",
   "metadata": {},
   "outputs": [],
   "source": [
    "from sklearn.linear_model import LinearRegression"
   ]
  },
  {
   "cell_type": "code",
   "execution_count": 87,
   "id": "c8628a92",
   "metadata": {},
   "outputs": [
    {
     "data": {
      "text/html": [
       "<style>#sk-container-id-4 {color: black;background-color: white;}#sk-container-id-4 pre{padding: 0;}#sk-container-id-4 div.sk-toggleable {background-color: white;}#sk-container-id-4 label.sk-toggleable__label {cursor: pointer;display: block;width: 100%;margin-bottom: 0;padding: 0.3em;box-sizing: border-box;text-align: center;}#sk-container-id-4 label.sk-toggleable__label-arrow:before {content: \"▸\";float: left;margin-right: 0.25em;color: #696969;}#sk-container-id-4 label.sk-toggleable__label-arrow:hover:before {color: black;}#sk-container-id-4 div.sk-estimator:hover label.sk-toggleable__label-arrow:before {color: black;}#sk-container-id-4 div.sk-toggleable__content {max-height: 0;max-width: 0;overflow: hidden;text-align: left;background-color: #f0f8ff;}#sk-container-id-4 div.sk-toggleable__content pre {margin: 0.2em;color: black;border-radius: 0.25em;background-color: #f0f8ff;}#sk-container-id-4 input.sk-toggleable__control:checked~div.sk-toggleable__content {max-height: 200px;max-width: 100%;overflow: auto;}#sk-container-id-4 input.sk-toggleable__control:checked~label.sk-toggleable__label-arrow:before {content: \"▾\";}#sk-container-id-4 div.sk-estimator input.sk-toggleable__control:checked~label.sk-toggleable__label {background-color: #d4ebff;}#sk-container-id-4 div.sk-label input.sk-toggleable__control:checked~label.sk-toggleable__label {background-color: #d4ebff;}#sk-container-id-4 input.sk-hidden--visually {border: 0;clip: rect(1px 1px 1px 1px);clip: rect(1px, 1px, 1px, 1px);height: 1px;margin: -1px;overflow: hidden;padding: 0;position: absolute;width: 1px;}#sk-container-id-4 div.sk-estimator {font-family: monospace;background-color: #f0f8ff;border: 1px dotted black;border-radius: 0.25em;box-sizing: border-box;margin-bottom: 0.5em;}#sk-container-id-4 div.sk-estimator:hover {background-color: #d4ebff;}#sk-container-id-4 div.sk-parallel-item::after {content: \"\";width: 100%;border-bottom: 1px solid gray;flex-grow: 1;}#sk-container-id-4 div.sk-label:hover label.sk-toggleable__label {background-color: #d4ebff;}#sk-container-id-4 div.sk-serial::before {content: \"\";position: absolute;border-left: 1px solid gray;box-sizing: border-box;top: 0;bottom: 0;left: 50%;z-index: 0;}#sk-container-id-4 div.sk-serial {display: flex;flex-direction: column;align-items: center;background-color: white;padding-right: 0.2em;padding-left: 0.2em;position: relative;}#sk-container-id-4 div.sk-item {position: relative;z-index: 1;}#sk-container-id-4 div.sk-parallel {display: flex;align-items: stretch;justify-content: center;background-color: white;position: relative;}#sk-container-id-4 div.sk-item::before, #sk-container-id-4 div.sk-parallel-item::before {content: \"\";position: absolute;border-left: 1px solid gray;box-sizing: border-box;top: 0;bottom: 0;left: 50%;z-index: -1;}#sk-container-id-4 div.sk-parallel-item {display: flex;flex-direction: column;z-index: 1;position: relative;background-color: white;}#sk-container-id-4 div.sk-parallel-item:first-child::after {align-self: flex-end;width: 50%;}#sk-container-id-4 div.sk-parallel-item:last-child::after {align-self: flex-start;width: 50%;}#sk-container-id-4 div.sk-parallel-item:only-child::after {width: 0;}#sk-container-id-4 div.sk-dashed-wrapped {border: 1px dashed gray;margin: 0 0.4em 0.5em 0.4em;box-sizing: border-box;padding-bottom: 0.4em;background-color: white;}#sk-container-id-4 div.sk-label label {font-family: monospace;font-weight: bold;display: inline-block;line-height: 1.2em;}#sk-container-id-4 div.sk-label-container {text-align: center;}#sk-container-id-4 div.sk-container {/* jupyter's `normalize.less` sets `[hidden] { display: none; }` but bootstrap.min.css set `[hidden] { display: none !important; }` so we also need the `!important` here to be able to override the default hidden behavior on the sphinx rendered scikit-learn.org. See: https://github.com/scikit-learn/scikit-learn/issues/21755 */display: inline-block !important;position: relative;}#sk-container-id-4 div.sk-text-repr-fallback {display: none;}</style><div id=\"sk-container-id-4\" class=\"sk-top-container\"><div class=\"sk-text-repr-fallback\"><pre>LinearRegression()</pre><b>In a Jupyter environment, please rerun this cell to show the HTML representation or trust the notebook. <br />On GitHub, the HTML representation is unable to render, please try loading this page with nbviewer.org.</b></div><div class=\"sk-container\" hidden><div class=\"sk-item\"><div class=\"sk-estimator sk-toggleable\"><input class=\"sk-toggleable__control sk-hidden--visually\" id=\"sk-estimator-id-4\" type=\"checkbox\" checked><label for=\"sk-estimator-id-4\" class=\"sk-toggleable__label sk-toggleable__label-arrow\">LinearRegression</label><div class=\"sk-toggleable__content\"><pre>LinearRegression()</pre></div></div></div></div></div>"
      ],
      "text/plain": [
       "LinearRegression()"
      ]
     },
     "execution_count": 87,
     "metadata": {},
     "output_type": "execute_result"
    }
   ],
   "source": [
    "model = LinearRegression()\n",
    "model.fit(x_train,y_train)"
   ]
  },
  {
   "cell_type": "code",
   "execution_count": 88,
   "id": "43ca8711",
   "metadata": {},
   "outputs": [
    {
     "data": {
      "text/plain": [
       "array([-28.69848878, -29.30654391,  -0.97772246, -19.9591483 ,\n",
       "        -3.97450147, -15.05932115,  20.60004685, -26.31132396,\n",
       "        -3.84761737,  11.99098417,  31.21342459,  16.07447763,\n",
       "        18.03656763,  31.06437561, -22.06586939,  21.09921536,\n",
       "       -40.13751968,  -2.37185263,  18.16556052, -35.29713531,\n",
       "        47.13720133, -31.96305824,  -2.42776687, -29.00763104,\n",
       "        30.59684655,  -4.40661978,  18.37610604,   4.5682805 ,\n",
       "       -29.20004341,  -1.91918434,  82.54322063, -11.08665997,\n",
       "       -19.05296777,  -6.42258794,  11.31109898, -43.28941007,\n",
       "       -29.23361306, -29.4208566 , -32.54110456,  -5.99344079,\n",
       "        -4.56751724,   1.48171893,   8.05016559,  18.58301958,\n",
       "        15.38193546,  19.05017089,  -9.08089127,  -8.98133744,\n",
       "         2.61952314,  16.45026181,   0.16015884, -36.88453439,\n",
       "       -20.64455012, -15.68724286, -64.67660373, -28.72349754,\n",
       "        -5.40762069,  -7.21701495, -21.27855276,   2.77024309,\n",
       "         9.45257765, -29.18341403,  18.69907362,   0.3200613 ,\n",
       "       -20.99599045,  43.80894449, -19.87834103,  12.82587427,\n",
       "       -27.98081415,  -7.15236226,  10.14393205,   7.63501791,\n",
       "        -4.14447104,  20.44414971, -20.36846047,  15.17668119,\n",
       "         8.86067766, -24.16974166,   6.83415018, -27.75839759,\n",
       "       -57.46433739,  -6.25778812,  31.61959967,  -6.15544038,\n",
       "        59.78943084, -39.54096311, -23.45655019,  -3.00838962,\n",
       "       -47.31570269,   7.63011752,   9.14097982, -19.5233065 ,\n",
       "       -10.06697799,   6.89816688,   9.71105374, -10.8844877 ,\n",
       "        10.17184607, -24.40020631,  40.50255794,  24.84076301])"
      ]
     },
     "execution_count": 88,
     "metadata": {},
     "output_type": "execute_result"
    }
   ],
   "source": [
    "y_pred = model.predict(x_test)\n",
    "y_pred"
   ]
  },
  {
   "cell_type": "code",
   "execution_count": 89,
   "id": "3db7f27a",
   "metadata": {},
   "outputs": [],
   "source": [
    "from sklearn.metrics import r2_score"
   ]
  },
  {
   "cell_type": "code",
   "execution_count": 151,
   "id": "cf2b0427",
   "metadata": {},
   "outputs": [
    {
     "data": {
      "text/plain": [
       "0.5942968938353169"
      ]
     },
     "execution_count": 151,
     "metadata": {},
     "output_type": "execute_result"
    }
   ],
   "source": [
    "results = r2_score(y_test,y_pred)\n",
    "results"
   ]
  },
  {
   "cell_type": "code",
   "execution_count": 152,
   "id": "031abdc4",
   "metadata": {},
   "outputs": [
    {
     "data": {
      "text/plain": [
       "array([24.96580541])"
      ]
     },
     "execution_count": 152,
     "metadata": {},
     "output_type": "execute_result"
    }
   ],
   "source": [
    "model.coef_"
   ]
  },
  {
   "cell_type": "code",
   "execution_count": 153,
   "id": "057381ff",
   "metadata": {},
   "outputs": [
    {
     "data": {
      "text/plain": [
       "-2.368122920727285"
      ]
     },
     "execution_count": 153,
     "metadata": {},
     "output_type": "execute_result"
    }
   ],
   "source": [
    "model.intercept_"
   ]
  },
  {
   "cell_type": "markdown",
   "id": "2896841c",
   "metadata": {},
   "source": [
    "### Creating my own model, later on we will compare results to evaluate the models"
   ]
  },
  {
   "cell_type": "code",
   "execution_count": 154,
   "id": "473fa316",
   "metadata": {},
   "outputs": [],
   "source": [
    "import numpy as np"
   ]
  },
  {
   "cell_type": "code",
   "execution_count": 155,
   "id": "4de5184b",
   "metadata": {},
   "outputs": [],
   "source": [
    "class MySimpleGDR:\n",
    "    def __init__(self,learning_rate=0.01,epochs=50):\n",
    "        self.m = 400\n",
    "        self.b = 100\n",
    "        self.lr = learning_rate\n",
    "        self.epochs = epochs\n",
    "    \n",
    "    def fit(self,x_train,y_train):\n",
    "        for i in range(self.epochs):\n",
    "            \n",
    "            slope_of_b = -2*np.sum(y_train - self.m*x_train.ravel() - self.b)\n",
    "            slope_of_m = -2*np.sum((y_train - self.m*x_train.ravel() - self.b)*x_train.ravel())\n",
    "#             loss_slope_m = -2 * np.sum((y - self.m*X.ravel() - self.b)*X.ravel())\n",
    "            \n",
    "            self.b = self.b - (self.lr*slope_of_b)\n",
    "            self.m = self.m - (self.lr*slope_of_m)\n",
    "            \n",
    "#             print(self.m)\n",
    "        print('b is',self.b)\n",
    "        print('m is',self.m)\n",
    "        \n",
    "    def predict(self,x_test):\n",
    "        pred = (self.m*x_test) + self.b\n",
    "        return pred"
   ]
  },
  {
   "cell_type": "code",
   "execution_count": 156,
   "id": "69e0603d",
   "metadata": {},
   "outputs": [],
   "source": [
    "mySGD = MySimpleGDR(0.001,200)"
   ]
  },
  {
   "cell_type": "code",
   "execution_count": 157,
   "id": "de3061d1",
   "metadata": {},
   "outputs": [
    {
     "name": "stdout",
     "output_type": "stream",
     "text": [
      "b is -2.3681229207272847\n",
      "m is 24.965805407915745\n"
     ]
    }
   ],
   "source": [
    "mySGD.fit(x_train,y_train)"
   ]
  },
  {
   "cell_type": "code",
   "execution_count": 158,
   "id": "0952652a",
   "metadata": {},
   "outputs": [
    {
     "data": {
      "text/plain": [
       "array([[-28.69848878],\n",
       "       [-29.30654391],\n",
       "       [ -0.97772246],\n",
       "       [-19.9591483 ],\n",
       "       [ -3.97450147],\n",
       "       [-15.05932115],\n",
       "       [ 20.60004685],\n",
       "       [-26.31132396],\n",
       "       [ -3.84761737],\n",
       "       [ 11.99098417],\n",
       "       [ 31.21342459],\n",
       "       [ 16.07447763],\n",
       "       [ 18.03656763],\n",
       "       [ 31.06437561],\n",
       "       [-22.06586939],\n",
       "       [ 21.09921536],\n",
       "       [-40.13751968],\n",
       "       [ -2.37185263],\n",
       "       [ 18.16556052],\n",
       "       [-35.29713531],\n",
       "       [ 47.13720133],\n",
       "       [-31.96305824],\n",
       "       [ -2.42776687],\n",
       "       [-29.00763104],\n",
       "       [ 30.59684655],\n",
       "       [ -4.40661978],\n",
       "       [ 18.37610604],\n",
       "       [  4.5682805 ],\n",
       "       [-29.20004341],\n",
       "       [ -1.91918434],\n",
       "       [ 82.54322063],\n",
       "       [-11.08665997],\n",
       "       [-19.05296777],\n",
       "       [ -6.42258794],\n",
       "       [ 11.31109898],\n",
       "       [-43.28941007],\n",
       "       [-29.23361306],\n",
       "       [-29.4208566 ],\n",
       "       [-32.54110456],\n",
       "       [ -5.99344079],\n",
       "       [ -4.56751724],\n",
       "       [  1.48171893],\n",
       "       [  8.05016559],\n",
       "       [ 18.58301958],\n",
       "       [ 15.38193546],\n",
       "       [ 19.05017089],\n",
       "       [ -9.08089127],\n",
       "       [ -8.98133744],\n",
       "       [  2.61952314],\n",
       "       [ 16.45026181],\n",
       "       [  0.16015884],\n",
       "       [-36.88453439],\n",
       "       [-20.64455012],\n",
       "       [-15.68724286],\n",
       "       [-64.67660373],\n",
       "       [-28.72349754],\n",
       "       [ -5.40762069],\n",
       "       [ -7.21701495],\n",
       "       [-21.27855276],\n",
       "       [  2.77024309],\n",
       "       [  9.45257765],\n",
       "       [-29.18341403],\n",
       "       [ 18.69907362],\n",
       "       [  0.3200613 ],\n",
       "       [-20.99599045],\n",
       "       [ 43.80894449],\n",
       "       [-19.87834103],\n",
       "       [ 12.82587427],\n",
       "       [-27.98081415],\n",
       "       [ -7.15236226],\n",
       "       [ 10.14393205],\n",
       "       [  7.63501791],\n",
       "       [ -4.14447104],\n",
       "       [ 20.44414971],\n",
       "       [-20.36846047],\n",
       "       [ 15.17668119],\n",
       "       [  8.86067766],\n",
       "       [-24.16974166],\n",
       "       [  6.83415018],\n",
       "       [-27.75839759],\n",
       "       [-57.46433739],\n",
       "       [ -6.25778812],\n",
       "       [ 31.61959967],\n",
       "       [ -6.15544038],\n",
       "       [ 59.78943084],\n",
       "       [-39.54096311],\n",
       "       [-23.45655019],\n",
       "       [ -3.00838962],\n",
       "       [-47.31570269],\n",
       "       [  7.63011752],\n",
       "       [  9.14097982],\n",
       "       [-19.5233065 ],\n",
       "       [-10.06697799],\n",
       "       [  6.89816688],\n",
       "       [  9.71105374],\n",
       "       [-10.8844877 ],\n",
       "       [ 10.17184607],\n",
       "       [-24.40020631],\n",
       "       [ 40.50255794],\n",
       "       [ 24.84076301]])"
      ]
     },
     "execution_count": 158,
     "metadata": {},
     "output_type": "execute_result"
    }
   ],
   "source": [
    "prediction = mySGD.predict(x_test)\n",
    "prediction"
   ]
  },
  {
   "cell_type": "code",
   "execution_count": 159,
   "id": "f73cea62",
   "metadata": {},
   "outputs": [
    {
     "data": {
      "text/plain": [
       "array([-28.69848878, -29.30654391,  -0.97772246, -19.9591483 ,\n",
       "        -3.97450147, -15.05932115,  20.60004685, -26.31132396,\n",
       "        -3.84761737,  11.99098417,  31.21342459,  16.07447763,\n",
       "        18.03656763,  31.06437561, -22.06586939,  21.09921536,\n",
       "       -40.13751968,  -2.37185263,  18.16556052, -35.29713531,\n",
       "        47.13720133, -31.96305824,  -2.42776687, -29.00763104,\n",
       "        30.59684655,  -4.40661978,  18.37610604,   4.5682805 ,\n",
       "       -29.20004341,  -1.91918434,  82.54322063, -11.08665997,\n",
       "       -19.05296777,  -6.42258794,  11.31109898, -43.28941007,\n",
       "       -29.23361306, -29.4208566 , -32.54110456,  -5.99344079,\n",
       "        -4.56751724,   1.48171893,   8.05016559,  18.58301958,\n",
       "        15.38193546,  19.05017089,  -9.08089127,  -8.98133744,\n",
       "         2.61952314,  16.45026181,   0.16015884, -36.88453439,\n",
       "       -20.64455012, -15.68724286, -64.67660373, -28.72349754,\n",
       "        -5.40762069,  -7.21701495, -21.27855276,   2.77024309,\n",
       "         9.45257765, -29.18341403,  18.69907362,   0.3200613 ,\n",
       "       -20.99599045,  43.80894449, -19.87834103,  12.82587427,\n",
       "       -27.98081415,  -7.15236226,  10.14393205,   7.63501791,\n",
       "        -4.14447104,  20.44414971, -20.36846047,  15.17668119,\n",
       "         8.86067766, -24.16974166,   6.83415018, -27.75839759,\n",
       "       -57.46433739,  -6.25778812,  31.61959967,  -6.15544038,\n",
       "        59.78943084, -39.54096311, -23.45655019,  -3.00838962,\n",
       "       -47.31570269,   7.63011752,   9.14097982, -19.5233065 ,\n",
       "       -10.06697799,   6.89816688,   9.71105374, -10.8844877 ,\n",
       "        10.17184607, -24.40020631,  40.50255794,  24.84076301])"
      ]
     },
     "execution_count": 159,
     "metadata": {},
     "output_type": "execute_result"
    }
   ],
   "source": [
    "y_pred"
   ]
  },
  {
   "cell_type": "code",
   "execution_count": 160,
   "id": "e75a7886",
   "metadata": {},
   "outputs": [
    {
     "data": {
      "text/plain": [
       "0.5942968938353169"
      ]
     },
     "execution_count": 160,
     "metadata": {},
     "output_type": "execute_result"
    }
   ],
   "source": [
    "r2_score(y_test,prediction)"
   ]
  },
  {
   "cell_type": "code",
   "execution_count": 147,
   "id": "dddd14df",
   "metadata": {},
   "outputs": [
    {
     "data": {
      "text/plain": [
       "-2.368122920727285"
      ]
     },
     "execution_count": 147,
     "metadata": {},
     "output_type": "execute_result"
    }
   ],
   "source": [
    "model.intercept_"
   ]
  },
  {
   "cell_type": "code",
   "execution_count": 136,
   "id": "ef3e9453",
   "metadata": {},
   "outputs": [
    {
     "data": {
      "text/plain": [
       "array([24.96580541])"
      ]
     },
     "execution_count": 136,
     "metadata": {},
     "output_type": "execute_result"
    }
   ],
   "source": [
    "model.coef_"
   ]
  },
  {
   "cell_type": "code",
   "execution_count": 161,
   "id": "27e66518",
   "metadata": {},
   "outputs": [],
   "source": [
    "from matplotlib import pyplot as plt"
   ]
  },
  {
   "cell_type": "code",
   "execution_count": 165,
   "id": "0a915a1b",
   "metadata": {},
   "outputs": [
    {
     "data": {
      "text/plain": [
       "[<matplotlib.lines.Line2D at 0x1846b7cb790>]"
      ]
     },
     "execution_count": 165,
     "metadata": {},
     "output_type": "execute_result"
    },
    {
     "data": {
      "image/png": "[encoded data removed]",
      "text/plain": [
       "<Figure size 432x288 with 1 Axes>"
      ]
     },
     "metadata": {
      "needs_background": "light"
     },
     "output_type": "display_data"
    }
   ],
   "source": [
    "plt.scatter(x,y)\n",
    "plt.plot(x_test,prediction,c='red')"
   ]
  },
  {
   "cell_type": "code",
   "execution_count": null,
   "id": "9ba4666b",
   "metadata": {},
   "outputs": [],
   "source": []
  }
 ],
 "metadata": {
  "kernelspec": {
   "display_name": "Python 3 (ipykernel)",
   "language": "python",
   "name": "python3"
  },
  "language_info": {
   "codemirror_mode": {
    "name": "ipython",
    "version": 3
   },
   "file_extension": ".py",
   "mimetype": "text/x-python",
   "name": "python",
   "nbconvert_exporter": "python",
   "pygments_lexer": "ipython3",
   "version": "3.10.0"
  }
 },
 "nbformat": 4,
 "nbformat_minor": 5
}
