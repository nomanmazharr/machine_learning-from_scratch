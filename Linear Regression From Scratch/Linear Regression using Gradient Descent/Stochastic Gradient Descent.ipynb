{
 "cells": [
  {
   "cell_type": "code",
   "execution_count": 36,
   "id": "d22ce8c0",
   "metadata": {},
   "outputs": [],
   "source": [
    "from sklearn.datasets import load_diabetes\n",
    "from sklearn.linear_model import LinearRegression\n",
    "import numpy as np\n",
    "import random"
   ]
  },
  {
   "cell_type": "code",
   "execution_count": 37,
   "id": "9ff47c48",
   "metadata": {},
   "outputs": [
    {
     "data": {
      "text/plain": [
       "array([[ 0.03807591,  0.05068012,  0.06169621, ..., -0.00259226,\n",
       "         0.01990749, -0.01764613],\n",
       "       [-0.00188202, -0.04464164, -0.05147406, ..., -0.03949338,\n",
       "        -0.06833155, -0.09220405],\n",
       "       [ 0.08529891,  0.05068012,  0.04445121, ..., -0.00259226,\n",
       "         0.00286131, -0.02593034],\n",
       "       ...,\n",
       "       [ 0.04170844,  0.05068012, -0.01590626, ..., -0.01107952,\n",
       "        -0.04688253,  0.01549073],\n",
       "       [-0.04547248, -0.04464164,  0.03906215, ...,  0.02655962,\n",
       "         0.04452873, -0.02593034],\n",
       "       [-0.04547248, -0.04464164, -0.0730303 , ..., -0.03949338,\n",
       "        -0.00422151,  0.00306441]])"
      ]
     },
     "execution_count": 37,
     "metadata": {},
     "output_type": "execute_result"
    }
   ],
   "source": [
    "x,y = load_diabetes(return_X_y=True)\n",
    "x"
   ]
  },
  {
   "cell_type": "code",
   "execution_count": 38,
   "id": "7888c5a6",
   "metadata": {},
   "outputs": [
    {
     "data": {
      "text/plain": [
       "array([151.,  75., 141., 206., 135.,  97., 138.,  63., 110., 310., 101.,\n",
       "        69., 179., 185., 118., 171., 166., 144.,  97., 168.,  68.,  49.,\n",
       "        68., 245., 184., 202., 137.,  85., 131., 283., 129.,  59., 341.,\n",
       "        87.,  65., 102., 265., 276., 252.,  90., 100.,  55.,  61.,  92.,\n",
       "       259.,  53., 190., 142.,  75., 142., 155., 225.,  59., 104., 182.,\n",
       "       128.,  52.,  37., 170., 170.,  61., 144.,  52., 128.,  71., 163.,\n",
       "       150.,  97., 160., 178.,  48., 270., 202., 111.,  85.,  42., 170.,\n",
       "       200., 252., 113., 143.,  51.,  52., 210.,  65., 141.,  55., 134.,\n",
       "        42., 111.,  98., 164.,  48.,  96.,  90., 162., 150., 279.,  92.,\n",
       "        83., 128., 102., 302., 198.,  95.,  53., 134., 144., 232.,  81.,\n",
       "       104.,  59., 246., 297., 258., 229., 275., 281., 179., 200., 200.,\n",
       "       173., 180.,  84., 121., 161.,  99., 109., 115., 268., 274., 158.,\n",
       "       107.,  83., 103., 272.,  85., 280., 336., 281., 118., 317., 235.,\n",
       "        60., 174., 259., 178., 128.,  96., 126., 288.,  88., 292.,  71.,\n",
       "       197., 186.,  25.,  84.,  96., 195.,  53., 217., 172., 131., 214.,\n",
       "        59.,  70., 220., 268., 152.,  47.,  74., 295., 101., 151., 127.,\n",
       "       237., 225.,  81., 151., 107.,  64., 138., 185., 265., 101., 137.,\n",
       "       143., 141.,  79., 292., 178.,  91., 116.,  86., 122.,  72., 129.,\n",
       "       142.,  90., 158.,  39., 196., 222., 277.,  99., 196., 202., 155.,\n",
       "        77., 191.,  70.,  73.,  49.,  65., 263., 248., 296., 214., 185.,\n",
       "        78.,  93., 252., 150.,  77., 208.,  77., 108., 160.,  53., 220.,\n",
       "       154., 259.,  90., 246., 124.,  67.,  72., 257., 262., 275., 177.,\n",
       "        71.,  47., 187., 125.,  78.,  51., 258., 215., 303., 243.,  91.,\n",
       "       150., 310., 153., 346.,  63.,  89.,  50.,  39., 103., 308., 116.,\n",
       "       145.,  74.,  45., 115., 264.,  87., 202., 127., 182., 241.,  66.,\n",
       "        94., 283.,  64., 102., 200., 265.,  94., 230., 181., 156., 233.,\n",
       "        60., 219.,  80.,  68., 332., 248.,  84., 200.,  55.,  85.,  89.,\n",
       "        31., 129.,  83., 275.,  65., 198., 236., 253., 124.,  44., 172.,\n",
       "       114., 142., 109., 180., 144., 163., 147.,  97., 220., 190., 109.,\n",
       "       191., 122., 230., 242., 248., 249., 192., 131., 237.,  78., 135.,\n",
       "       244., 199., 270., 164.,  72.,  96., 306.,  91., 214.,  95., 216.,\n",
       "       263., 178., 113., 200., 139., 139.,  88., 148.,  88., 243.,  71.,\n",
       "        77., 109., 272.,  60.,  54., 221.,  90., 311., 281., 182., 321.,\n",
       "        58., 262., 206., 233., 242., 123., 167.,  63., 197.,  71., 168.,\n",
       "       140., 217., 121., 235., 245.,  40.,  52., 104., 132.,  88.,  69.,\n",
       "       219.,  72., 201., 110.,  51., 277.,  63., 118.,  69., 273., 258.,\n",
       "        43., 198., 242., 232., 175.,  93., 168., 275., 293., 281.,  72.,\n",
       "       140., 189., 181., 209., 136., 261., 113., 131., 174., 257.,  55.,\n",
       "        84.,  42., 146., 212., 233.,  91., 111., 152., 120.,  67., 310.,\n",
       "        94., 183.,  66., 173.,  72.,  49.,  64.,  48., 178., 104., 132.,\n",
       "       220.,  57.])"
      ]
     },
     "execution_count": 38,
     "metadata": {},
     "output_type": "execute_result"
    }
   ],
   "source": [
    "y"
   ]
  },
  {
   "cell_type": "code",
   "execution_count": 39,
   "id": "4d192114",
   "metadata": {},
   "outputs": [],
   "source": [
    "from sklearn.model_selection import train_test_split\n",
    "x_train,x_test,y_train,y_test = train_test_split(x,y,test_size=0.2,random_state=2)"
   ]
  },
  {
   "cell_type": "code",
   "execution_count": 40,
   "id": "eefc5586",
   "metadata": {},
   "outputs": [
    {
     "data": {
      "text/plain": [
       "(89, 10)"
      ]
     },
     "execution_count": 40,
     "metadata": {},
     "output_type": "execute_result"
    }
   ],
   "source": [
    "x_test.shape"
   ]
  },
  {
   "cell_type": "code",
   "execution_count": 41,
   "id": "ffba9c10",
   "metadata": {},
   "outputs": [
    {
     "data": {
      "text/html": [
       "<style>#sk-container-id-2 {color: black;background-color: white;}#sk-container-id-2 pre{padding: 0;}#sk-container-id-2 div.sk-toggleable {background-color: white;}#sk-container-id-2 label.sk-toggleable__label {cursor: pointer;display: block;width: 100%;margin-bottom: 0;padding: 0.3em;box-sizing: border-box;text-align: center;}#sk-container-id-2 label.sk-toggleable__label-arrow:before {content: \"▸\";float: left;margin-right: 0.25em;color: #696969;}#sk-container-id-2 label.sk-toggleable__label-arrow:hover:before {color: black;}#sk-container-id-2 div.sk-estimator:hover label.sk-toggleable__label-arrow:before {color: black;}#sk-container-id-2 div.sk-toggleable__content {max-height: 0;max-width: 0;overflow: hidden;text-align: left;background-color: #f0f8ff;}#sk-container-id-2 div.sk-toggleable__content pre {margin: 0.2em;color: black;border-radius: 0.25em;background-color: #f0f8ff;}#sk-container-id-2 input.sk-toggleable__control:checked~div.sk-toggleable__content {max-height: 200px;max-width: 100%;overflow: auto;}#sk-container-id-2 input.sk-toggleable__control:checked~label.sk-toggleable__label-arrow:before {content: \"▾\";}#sk-container-id-2 div.sk-estimator input.sk-toggleable__control:checked~label.sk-toggleable__label {background-color: #d4ebff;}#sk-container-id-2 div.sk-label input.sk-toggleable__control:checked~label.sk-toggleable__label {background-color: #d4ebff;}#sk-container-id-2 input.sk-hidden--visually {border: 0;clip: rect(1px 1px 1px 1px);clip: rect(1px, 1px, 1px, 1px);height: 1px;margin: -1px;overflow: hidden;padding: 0;position: absolute;width: 1px;}#sk-container-id-2 div.sk-estimator {font-family: monospace;background-color: #f0f8ff;border: 1px dotted black;border-radius: 0.25em;box-sizing: border-box;margin-bottom: 0.5em;}#sk-container-id-2 div.sk-estimator:hover {background-color: #d4ebff;}#sk-container-id-2 div.sk-parallel-item::after {content: \"\";width: 100%;border-bottom: 1px solid gray;flex-grow: 1;}#sk-container-id-2 div.sk-label:hover label.sk-toggleable__label {background-color: #d4ebff;}#sk-container-id-2 div.sk-serial::before {content: \"\";position: absolute;border-left: 1px solid gray;box-sizing: border-box;top: 0;bottom: 0;left: 50%;z-index: 0;}#sk-container-id-2 div.sk-serial {display: flex;flex-direction: column;align-items: center;background-color: white;padding-right: 0.2em;padding-left: 0.2em;position: relative;}#sk-container-id-2 div.sk-item {position: relative;z-index: 1;}#sk-container-id-2 div.sk-parallel {display: flex;align-items: stretch;justify-content: center;background-color: white;position: relative;}#sk-container-id-2 div.sk-item::before, #sk-container-id-2 div.sk-parallel-item::before {content: \"\";position: absolute;border-left: 1px solid gray;box-sizing: border-box;top: 0;bottom: 0;left: 50%;z-index: -1;}#sk-container-id-2 div.sk-parallel-item {display: flex;flex-direction: column;z-index: 1;position: relative;background-color: white;}#sk-container-id-2 div.sk-parallel-item:first-child::after {align-self: flex-end;width: 50%;}#sk-container-id-2 div.sk-parallel-item:last-child::after {align-self: flex-start;width: 50%;}#sk-container-id-2 div.sk-parallel-item:only-child::after {width: 0;}#sk-container-id-2 div.sk-dashed-wrapped {border: 1px dashed gray;margin: 0 0.4em 0.5em 0.4em;box-sizing: border-box;padding-bottom: 0.4em;background-color: white;}#sk-container-id-2 div.sk-label label {font-family: monospace;font-weight: bold;display: inline-block;line-height: 1.2em;}#sk-container-id-2 div.sk-label-container {text-align: center;}#sk-container-id-2 div.sk-container {/* jupyter's `normalize.less` sets `[hidden] { display: none; }` but bootstrap.min.css set `[hidden] { display: none !important; }` so we also need the `!important` here to be able to override the default hidden behavior on the sphinx rendered scikit-learn.org. See: https://github.com/scikit-learn/scikit-learn/issues/21755 */display: inline-block !important;position: relative;}#sk-container-id-2 div.sk-text-repr-fallback {display: none;}</style><div id=\"sk-container-id-2\" class=\"sk-top-container\"><div class=\"sk-text-repr-fallback\"><pre>LinearRegression()</pre><b>In a Jupyter environment, please rerun this cell to show the HTML representation or trust the notebook. <br />On GitHub, the HTML representation is unable to render, please try loading this page with nbviewer.org.</b></div><div class=\"sk-container\" hidden><div class=\"sk-item\"><div class=\"sk-estimator sk-toggleable\"><input class=\"sk-toggleable__control sk-hidden--visually\" id=\"sk-estimator-id-2\" type=\"checkbox\" checked><label for=\"sk-estimator-id-2\" class=\"sk-toggleable__label sk-toggleable__label-arrow\">LinearRegression</label><div class=\"sk-toggleable__content\"><pre>LinearRegression()</pre></div></div></div></div></div>"
      ],
      "text/plain": [
       "LinearRegression()"
      ]
     },
     "execution_count": 41,
     "metadata": {},
     "output_type": "execute_result"
    }
   ],
   "source": [
    "model = LinearRegression()\n",
    "model.fit(x_train,y_train)"
   ]
  },
  {
   "cell_type": "code",
   "execution_count": 42,
   "id": "e324aa6a",
   "metadata": {},
   "outputs": [
    {
     "data": {
      "text/plain": [
       "array([154.1213881 , 204.81835118, 124.93755353, 106.08950893,\n",
       "       258.5348576 , 256.3310074 , 118.75087616, 119.52440696,\n",
       "       101.50816735, 190.54048661, 141.70656811, 172.51883961,\n",
       "       174.33861649, 134.80942706, 294.13994537,  94.11798038,\n",
       "       211.97059795, 156.49579378, 134.21000428, 119.62664644,\n",
       "       148.87842251, 165.00873409, 151.10021038, 176.04063756,\n",
       "       133.27769647, 221.29555392, 197.17324941,  96.1577688 ,\n",
       "        50.26012711, 230.48580317, 242.06073866, 114.11129218,\n",
       "        67.07532417,  94.52943825, 201.21415375, 167.05136201,\n",
       "       159.881268  , 192.78746659, 114.49551325, 233.48234551,\n",
       "       140.82563045, 121.0680409 , 192.27480772, 191.12738845,\n",
       "       179.16865788, 148.34935601, 163.47414622, 276.81647884,\n",
       "       100.17926432, 164.10555298, 255.80762189, 136.9466204 ,\n",
       "       152.37503699, 107.92237882, 194.21924678,  77.34670792,\n",
       "       118.50482479,  68.38335763, 154.29258529, 162.48840259,\n",
       "       168.36788326, 156.87790322,  97.14191797, 238.1671215 ,\n",
       "       145.46179904, 117.65702433, 168.88784311, 198.38683887,\n",
       "       118.24053714, 124.64552812, 223.17700368, 200.63012386,\n",
       "       129.54414666, 158.1584765 , 154.332565  , 114.47070769,\n",
       "        70.44906407,  76.3973879 , 172.41584591,  80.56270077,\n",
       "        80.2722834 ,  89.46150248, 186.21572052, 275.46275403,\n",
       "       208.26784222, 143.79451509, 291.28766846, 206.32474844,\n",
       "        94.22935404])"
      ]
     },
     "execution_count": 42,
     "metadata": {},
     "output_type": "execute_result"
    }
   ],
   "source": [
    "y_pred = model.predict(x_test)\n",
    "y_pred"
   ]
  },
  {
   "cell_type": "code",
   "execution_count": 43,
   "id": "b8e46e40",
   "metadata": {},
   "outputs": [],
   "source": [
    "from sklearn.metrics import r2_score"
   ]
  },
  {
   "cell_type": "code",
   "execution_count": 44,
   "id": "986ab02d",
   "metadata": {},
   "outputs": [
    {
     "data": {
      "text/plain": [
       "0.4399338661568968"
      ]
     },
     "execution_count": 44,
     "metadata": {},
     "output_type": "execute_result"
    }
   ],
   "source": [
    "r2_score(y_test,y_pred)"
   ]
  },
  {
   "cell_type": "code",
   "execution_count": 158,
   "id": "ee7e8775",
   "metadata": {},
   "outputs": [],
   "source": [
    "class MySGD:\n",
    "    def __init__(self,learning_rate,epochs):\n",
    "        self.coef = None\n",
    "        self.intercept = None\n",
    "        self.lr = learning_rate\n",
    "        self.epochs = epochs\n",
    "    def fit(self,x_train,y_train):\n",
    "        # initializing intercept and coefficients\n",
    "        self.intercept = 0\n",
    "        self.coef = np.ones(x_train.shape[1])\n",
    "#         print(self.coef)\n",
    "        \n",
    "        for i in range(self.epochs):\n",
    "            for j in range(x_train.shape[0]):\n",
    "                index = np.random.randint(0,x_train.shape[0])\n",
    "                y_hat = np.dot(x_train[index],self.coef) + self.intercept\n",
    "\n",
    "                # in stochastic gradient descent we do not take mean of y - yhat because we are using rows one by one\n",
    "                slope_of_intercept = -2*(y_train[index] - y_hat)\n",
    "                slope_of_coef = (-2*np.dot((y_train[index] - y_hat),x_train[index]))\n",
    "\n",
    "                self.intercept = self.intercept - (self.lr*slope_of_intercept)\n",
    "                self.coef = self.coef - (self.lr*slope_of_coef)\n",
    "        print(self.coef)\n",
    "        print(self.intercept)\n",
    "    \n",
    "    def predict(self,x_test):\n",
    "        pred = np.dot(x_test,self.coef) + self.intercept\n",
    "        return pred"
   ]
  },
  {
   "cell_type": "code",
   "execution_count": 159,
   "id": "ff1c7483",
   "metadata": {},
   "outputs": [],
   "source": [
    "myclass = MySGD(0.01,100)"
   ]
  },
  {
   "cell_type": "code",
   "execution_count": 160,
   "id": "5520729b",
   "metadata": {},
   "outputs": [
    {
     "name": "stdout",
     "output_type": "stream",
     "text": [
      "[  25.65916539 -135.68651876  450.21720928  311.69269579  -21.61554006\n",
      "  -94.0598138  -189.23693471  116.2979267   415.0104574   117.29213694]\n",
      "155.91442274814943\n"
     ]
    }
   ],
   "source": [
    "myclass.fit(x_train,y_train)"
   ]
  },
  {
   "cell_type": "code",
   "execution_count": 161,
   "id": "17ad89a5",
   "metadata": {},
   "outputs": [
    {
     "data": {
      "text/plain": [
       "array([156.44242242, 201.26584314, 135.27062851, 109.26979957,\n",
       "       265.25500405, 252.9901211 , 114.76128613, 118.73469871,\n",
       "        97.85103153, 191.39540509, 154.35748543, 177.27461309,\n",
       "       185.50157531, 143.70359934, 285.795048  ,  91.19051553,\n",
       "       200.93343352, 150.44563579, 139.06505951, 136.24715195,\n",
       "       146.35941759, 181.56753064, 160.00159963, 180.03827445,\n",
       "       130.73798801, 226.42233374, 204.02219975, 110.23611177,\n",
       "        58.29059991, 244.81196425, 246.42119349, 118.10715541,\n",
       "        72.07936346, 103.42259047, 208.65856256, 168.1138698 ,\n",
       "       167.445913  , 198.10114069, 116.73061   , 243.11468253,\n",
       "       143.70728984, 126.26436329, 191.23049443, 191.90020486,\n",
       "       177.64127763, 147.94652634, 175.09854355, 299.90899797,\n",
       "       112.93411755, 179.72588837, 255.95633009, 141.54216424,\n",
       "       152.87707715, 135.4164579 , 195.86915656, 103.6668625 ,\n",
       "       141.48861774,  82.03467562, 162.73841414, 155.49958104,\n",
       "       167.84306189, 167.94752043, 107.43963369, 225.43943695,\n",
       "       154.11043602, 141.60549397, 162.19456949, 195.29798336,\n",
       "       126.30867479, 136.12351538, 216.71809769, 199.76550281,\n",
       "       124.86822243, 158.02374007, 148.5433502 , 115.46563377,\n",
       "        84.92124655,  83.64399585, 174.38463697,  87.02020189,\n",
       "       100.12737738, 104.8145427 , 178.39440832, 276.64250714,\n",
       "       209.40278034, 147.55614278, 278.18098291, 200.98934791,\n",
       "       106.44914164])"
      ]
     },
     "execution_count": 161,
     "metadata": {},
     "output_type": "execute_result"
    }
   ],
   "source": [
    "prediction = myclass.predict(x_test)\n",
    "prediction"
   ]
  },
  {
   "cell_type": "code",
   "execution_count": 162,
   "id": "e6873d14",
   "metadata": {},
   "outputs": [
    {
     "data": {
      "text/plain": [
       "0.4490879871967023"
      ]
     },
     "execution_count": 162,
     "metadata": {},
     "output_type": "execute_result"
    }
   ],
   "source": [
    "r2_score(y_test,prediction)"
   ]
  },
  {
   "cell_type": "code",
   "execution_count": 106,
   "id": "acb6efea",
   "metadata": {},
   "outputs": [
    {
     "data": {
      "text/plain": [
       "151.88331005254167"
      ]
     },
     "execution_count": 106,
     "metadata": {},
     "output_type": "execute_result"
    }
   ],
   "source": [
    "model.intercept_"
   ]
  },
  {
   "cell_type": "code",
   "execution_count": 35,
   "id": "b5542bcd",
   "metadata": {},
   "outputs": [
    {
     "data": {
      "text/plain": [
       "array([  -9.15865318, -205.45432163,  516.69374454,  340.61999905,\n",
       "       -895.5520019 ,  561.22067904,  153.89310954,  126.73139688,\n",
       "        861.12700152,   52.42112238])"
      ]
     },
     "execution_count": 35,
     "metadata": {},
     "output_type": "execute_result"
    }
   ],
   "source": [
    "model.coef_"
   ]
  },
  {
   "cell_type": "code",
   "execution_count": 163,
   "id": "05cb4448",
   "metadata": {},
   "outputs": [],
   "source": [
    "from sklearn.linear_model import SGDRegressor"
   ]
  },
  {
   "cell_type": "code",
   "execution_count": 164,
   "id": "c08db6b2",
   "metadata": {},
   "outputs": [],
   "source": [
    "sgd = SGDRegressor(learning_rate='constant',eta0=0.01)"
   ]
  },
  {
   "cell_type": "code",
   "execution_count": 165,
   "id": "61bfabf4",
   "metadata": {},
   "outputs": [
    {
     "data": {
      "text/html": [
       "<style>#sk-container-id-3 {color: black;background-color: white;}#sk-container-id-3 pre{padding: 0;}#sk-container-id-3 div.sk-toggleable {background-color: white;}#sk-container-id-3 label.sk-toggleable__label {cursor: pointer;display: block;width: 100%;margin-bottom: 0;padding: 0.3em;box-sizing: border-box;text-align: center;}#sk-container-id-3 label.sk-toggleable__label-arrow:before {content: \"▸\";float: left;margin-right: 0.25em;color: #696969;}#sk-container-id-3 label.sk-toggleable__label-arrow:hover:before {color: black;}#sk-container-id-3 div.sk-estimator:hover label.sk-toggleable__label-arrow:before {color: black;}#sk-container-id-3 div.sk-toggleable__content {max-height: 0;max-width: 0;overflow: hidden;text-align: left;background-color: #f0f8ff;}#sk-container-id-3 div.sk-toggleable__content pre {margin: 0.2em;color: black;border-radius: 0.25em;background-color: #f0f8ff;}#sk-container-id-3 input.sk-toggleable__control:checked~div.sk-toggleable__content {max-height: 200px;max-width: 100%;overflow: auto;}#sk-container-id-3 input.sk-toggleable__control:checked~label.sk-toggleable__label-arrow:before {content: \"▾\";}#sk-container-id-3 div.sk-estimator input.sk-toggleable__control:checked~label.sk-toggleable__label {background-color: #d4ebff;}#sk-container-id-3 div.sk-label input.sk-toggleable__control:checked~label.sk-toggleable__label {background-color: #d4ebff;}#sk-container-id-3 input.sk-hidden--visually {border: 0;clip: rect(1px 1px 1px 1px);clip: rect(1px, 1px, 1px, 1px);height: 1px;margin: -1px;overflow: hidden;padding: 0;position: absolute;width: 1px;}#sk-container-id-3 div.sk-estimator {font-family: monospace;background-color: #f0f8ff;border: 1px dotted black;border-radius: 0.25em;box-sizing: border-box;margin-bottom: 0.5em;}#sk-container-id-3 div.sk-estimator:hover {background-color: #d4ebff;}#sk-container-id-3 div.sk-parallel-item::after {content: \"\";width: 100%;border-bottom: 1px solid gray;flex-grow: 1;}#sk-container-id-3 div.sk-label:hover label.sk-toggleable__label {background-color: #d4ebff;}#sk-container-id-3 div.sk-serial::before {content: \"\";position: absolute;border-left: 1px solid gray;box-sizing: border-box;top: 0;bottom: 0;left: 50%;z-index: 0;}#sk-container-id-3 div.sk-serial {display: flex;flex-direction: column;align-items: center;background-color: white;padding-right: 0.2em;padding-left: 0.2em;position: relative;}#sk-container-id-3 div.sk-item {position: relative;z-index: 1;}#sk-container-id-3 div.sk-parallel {display: flex;align-items: stretch;justify-content: center;background-color: white;position: relative;}#sk-container-id-3 div.sk-item::before, #sk-container-id-3 div.sk-parallel-item::before {content: \"\";position: absolute;border-left: 1px solid gray;box-sizing: border-box;top: 0;bottom: 0;left: 50%;z-index: -1;}#sk-container-id-3 div.sk-parallel-item {display: flex;flex-direction: column;z-index: 1;position: relative;background-color: white;}#sk-container-id-3 div.sk-parallel-item:first-child::after {align-self: flex-end;width: 50%;}#sk-container-id-3 div.sk-parallel-item:last-child::after {align-self: flex-start;width: 50%;}#sk-container-id-3 div.sk-parallel-item:only-child::after {width: 0;}#sk-container-id-3 div.sk-dashed-wrapped {border: 1px dashed gray;margin: 0 0.4em 0.5em 0.4em;box-sizing: border-box;padding-bottom: 0.4em;background-color: white;}#sk-container-id-3 div.sk-label label {font-family: monospace;font-weight: bold;display: inline-block;line-height: 1.2em;}#sk-container-id-3 div.sk-label-container {text-align: center;}#sk-container-id-3 div.sk-container {/* jupyter's `normalize.less` sets `[hidden] { display: none; }` but bootstrap.min.css set `[hidden] { display: none !important; }` so we also need the `!important` here to be able to override the default hidden behavior on the sphinx rendered scikit-learn.org. See: https://github.com/scikit-learn/scikit-learn/issues/21755 */display: inline-block !important;position: relative;}#sk-container-id-3 div.sk-text-repr-fallback {display: none;}</style><div id=\"sk-container-id-3\" class=\"sk-top-container\"><div class=\"sk-text-repr-fallback\"><pre>SGDRegressor(learning_rate=&#x27;constant&#x27;)</pre><b>In a Jupyter environment, please rerun this cell to show the HTML representation or trust the notebook. <br />On GitHub, the HTML representation is unable to render, please try loading this page with nbviewer.org.</b></div><div class=\"sk-container\" hidden><div class=\"sk-item\"><div class=\"sk-estimator sk-toggleable\"><input class=\"sk-toggleable__control sk-hidden--visually\" id=\"sk-estimator-id-3\" type=\"checkbox\" checked><label for=\"sk-estimator-id-3\" class=\"sk-toggleable__label sk-toggleable__label-arrow\">SGDRegressor</label><div class=\"sk-toggleable__content\"><pre>SGDRegressor(learning_rate=&#x27;constant&#x27;)</pre></div></div></div></div></div>"
      ],
      "text/plain": [
       "SGDRegressor(learning_rate='constant')"
      ]
     },
     "execution_count": 165,
     "metadata": {},
     "output_type": "execute_result"
    }
   ],
   "source": [
    "sgd.fit(x_train,y_train)"
   ]
  },
  {
   "cell_type": "code",
   "execution_count": 166,
   "id": "3b9698e5",
   "metadata": {},
   "outputs": [
    {
     "data": {
      "text/plain": [
       "array([154.42810561])"
      ]
     },
     "execution_count": 166,
     "metadata": {},
     "output_type": "execute_result"
    }
   ],
   "source": [
    "sgd.intercept_"
   ]
  },
  {
   "cell_type": "code",
   "execution_count": 167,
   "id": "5a74dd89",
   "metadata": {},
   "outputs": [
    {
     "data": {
      "text/plain": [
       "array([  46.73270532,  -95.35468266,  391.64988833,  271.207724  ,\n",
       "          1.43515663,  -54.2200907 , -182.29310411,  123.70397982,\n",
       "        354.48691901,  124.25158501])"
      ]
     },
     "execution_count": 167,
     "metadata": {},
     "output_type": "execute_result"
    }
   ],
   "source": [
    "sgd.coef_"
   ]
  },
  {
   "cell_type": "code",
   "execution_count": 168,
   "id": "fea37479",
   "metadata": {},
   "outputs": [
    {
     "data": {
      "text/plain": [
       "array([155.67752016, 195.48543055, 139.10332633, 109.80443221,\n",
       "       253.19758447, 244.28439195, 111.10545937, 117.27176486,\n",
       "        95.94767783, 188.40918341, 158.52977938, 175.50213747,\n",
       "       185.75813858, 149.13293449, 267.13117242,  92.5946667 ,\n",
       "       192.45852164, 144.4229793 , 140.32555351, 139.19279625,\n",
       "       139.45320252, 187.19483937, 164.74626783, 179.46031986,\n",
       "       129.14155551, 223.33352762, 199.38127306, 117.49068046,\n",
       "        62.75169909, 242.68298749, 240.99298604, 119.79497898,\n",
       "        74.81124935, 108.56183543, 203.69645427, 168.06202927,\n",
       "       168.10326576, 197.64454306, 116.94104775, 237.45827515,\n",
       "       140.01324438, 127.81801592, 188.23882122, 188.93081937,\n",
       "       174.61180392, 147.73415649, 175.19518158, 286.97887534,\n",
       "       116.93808474, 186.18456869, 244.2533152 , 136.09935338,\n",
       "       148.3371464 , 145.79344465, 192.82220946, 111.09164493,\n",
       "       150.97311639,  85.55018563, 160.95693625, 149.3702638 ,\n",
       "       166.25040319, 171.1041547 , 110.71634751, 213.75810765,\n",
       "       157.02340791, 149.82185024, 156.73079466, 191.72992101,\n",
       "       124.95549498, 141.38200454, 208.80524408, 192.9048969 ,\n",
       "       123.8472743 , 154.34693857, 144.77304481, 115.93829592,\n",
       "        87.05187329,  88.4451613 , 173.21932915,  89.54096135,\n",
       "       101.73755512, 109.2412264 , 171.37369231, 265.69438558,\n",
       "       204.31950837, 144.31926028, 262.22573569, 192.53471939,\n",
       "       112.28381861])"
      ]
     },
     "execution_count": 168,
     "metadata": {},
     "output_type": "execute_result"
    }
   ],
   "source": [
    "prediction_by_sgd = sgd.predict(x_test)\n",
    "prediction_by_sgd"
   ]
  },
  {
   "cell_type": "code",
   "execution_count": 169,
   "id": "f1a86613",
   "metadata": {},
   "outputs": [
    {
     "data": {
      "text/plain": [
       "0.4440821593925993"
      ]
     },
     "execution_count": 169,
     "metadata": {},
     "output_type": "execute_result"
    }
   ],
   "source": [
    "r2_score(y_test,prediction_by_sgd)"
   ]
  },
  {
   "cell_type": "code",
   "execution_count": null,
   "id": "97c2fdd1",
   "metadata": {},
   "outputs": [],
   "source": []
  }
 ],
 "metadata": {
  "kernelspec": {
   "display_name": "Python 3 (ipykernel)",
   "language": "python",
   "name": "python3"
  },
  "language_info": {
   "codemirror_mode": {
    "name": "ipython",
    "version": 3
   },
   "file_extension": ".py",
   "mimetype": "text/x-python",
   "name": "python",
   "nbconvert_exporter": "python",
   "pygments_lexer": "ipython3",
   "version": "3.10.0"
  }
 },
 "nbformat": 4,
 "nbformat_minor": 5
}
